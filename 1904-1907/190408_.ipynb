{
 "cells": [
  {
   "cell_type": "markdown",
   "metadata": {},
   "source": [
    "#### 2019/04/08\n",
    "## 任务\n",
    "```shell \n",
    "python coco.py train --dataset=/home/xianr/data/utils/datasets/coco --model=xpfcoco```\n",
    "- [ ] xtool, 图片显示工具\n",
    "- [ ] xtool, 折线画图工具\n",
    "- [ ] 把annotation里面的游程编码一条一条在原图上标出来,搞懂,并且会用coco.py给的接口\n",
    "- [ ] 搞明白评价接口,能随意使用判定预测结果的准确率\n",
    "- [ ] 开始找DQN pytorch的代码\n",
    "- [ ] 找到rcnn训练崩溃的原因\n",
    "- [ ] 训练一个神经网络来指导(为instance打分)选择对象以及调整, 考虑bbox大小, 中心位置占画面长宽的比例, \n",
    "- [ ] 确定一个默认的overview视角作为后备\n",
    "- [ ] 解决zoom与speed的关系问题\n",
    "- [ ] 设计一个机制,五级打分:没啥变化, 变好了, 变坏了, 太好了, 太坏了, 人只进行这样的评判, 然后可以在线地传递到instance的打分上\n",
    "- [x] 结合yolov3与face detection, 实现快速识别\n",
    "- [ ] 结合yolov3与pose body, 实现快速识别\n"
   ]
  },
  {
   "cell_type": "markdown",
   "metadata": {},
   "source": [
    "x 取值范围是0.3~0.5, 我们期望 在x取0.3的时候,pspeed取1, "
   ]
  },
  {
   "cell_type": "code",
   "execution_count": null,
   "metadata": {},
   "outputs": [],
   "source": [
    "1000 ~ 1\n",
    "15000 ~ z ~ 0.1"
   ]
  },
  {
   "cell_type": "code",
   "execution_count": null,
   "metadata": {},
   "outputs": [],
   "source": [
    "y = ax + b\n",
    "1 = 1000a + b\n",
    "z = 0.1 = 15000a + b\n",
    "\n",
    "15 = 15000a + 15b\n",
    "15 -z = 14 b\n",
    "b = (15-z)/14 ~ 1.0642\n",
    "\n",
    "z - 1 = 14000 a\n",
    "a = (z -1 )/ \n"
   ]
  },
  {
   "cell_type": "code",
   "execution_count": 5,
   "metadata": {},
   "outputs": [
    {
     "name": "stdout",
     "output_type": "stream",
     "text": [
      "-6.428571428571429e-05 1.0642857142857143 0.09999999999999998\n"
     ]
    }
   ],
   "source": [
    "z = 0.1\n",
    "b = (15-z)/14\n",
    "a = (z -1 )/ 14000\n",
    "y = a * 15000 + b\n",
    "print(a, b, y)\n"
   ]
  },
  {
   "cell_type": "code",
   "execution_count": null,
   "metadata": {},
   "outputs": [],
   "source": []
  },
  {
   "cell_type": "markdown",
   "metadata": {
    "toc-hr-collapsed": false
   },
   "source": [
    "# Issues\n",
    "### **Q:** \n"
   ]
  },
  {
   "cell_type": "code",
   "execution_count": null,
   "metadata": {},
   "outputs": [],
   "source": []
  }
 ],
 "metadata": {
  "kernelspec": {
   "display_name": "Python 3",
   "language": "python",
   "name": "python3"
  },
  "language_info": {
   "codemirror_mode": {
    "name": "ipython",
    "version": 3
   },
   "file_extension": ".py",
   "mimetype": "text/x-python",
   "name": "python",
   "nbconvert_exporter": "python",
   "pygments_lexer": "ipython3",
   "version": "3.6.5"
  },
  "toc-autonumbering": false,
  "toc-showcode": false,
  "toc-showmarkdowntxt": false
 },
 "nbformat": 4,
 "nbformat_minor": 2
}
