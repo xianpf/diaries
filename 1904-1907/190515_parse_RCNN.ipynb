{
 "cells": [
  {
   "cell_type": "markdown",
   "metadata": {},
   "source": [
    "#### 2019/05/11\n",
    "# Cycle GAN few shot\n",
    "## ideas\n",
    "- [ ] 卷积是怎么评价\"这个特征图的这个地方跟那个啥有多像\"这个问题的, 猜是卷积核的样子,比如说连续几层的卷积层的filter的组合\n",
    "- [ ] 使用色彩, erosion dilation, 简化图像信息, 优化颜色位置编码\n",
    "- [ ] 使用cycle gan生成mask的auto code, 使用drl解释code\n",
    "- [ ] mask rcnn的结果进行ppo, roialign或rpn之后的特征处开始训练actor critic, 看看最终能不能帮助改善rcnn, 主要是为了提高iou\n",
    "- [ ] 球坐标经纬度范围加zoom信息及其归一化与置信度，经纬度上的高斯，随时间方差增大\n",
    "- [ ] region proposal with hsv 记录邻域, 宽阈值筛选， 然后再精细化阈值， 辨认脸型\n",
    "- [ ] 图像的小片方差也有它的边缘信息, 即, 两个预处理, LAB转换和方差map\n",
    "\n",
    "## 今日任务\n",
    "- [ ] 实现腐蚀后膨胀还原"
   ]
  },
  {
   "cell_type": "markdown",
   "metadata": {},
   "source": [
    "\n",
    "## 以前任务\n",
    "- [ ] 了解[俄罗斯小哥](https://mp.weixin.qq.com/s/3B3YVGaIRAzEaVojD0Qq3g)的[github](https://github.com/qubvel/segmentation_models.pytorch)\n",
    "- [ ] 把annotation里面的游程编码一条一条在原图上标出来,搞懂,并且会用coco.py给的接口\n",
    "- [ ] 搞明白评价接口,能随意使用判定预测结果的准确率\n",
    "- [x] 开始找DQN pytorch的代码\n",
    "- [ ] 开始找PPO pytorch的代码\n",
    "- [ ] 找到rcnn训练崩溃的原因\n",
    "- [ ] 训练一个神经网络来指导(为instance打分)选择对象以及调整, 考虑bbox大小, 中心位置占画面长宽的比例, \n",
    "- [ ] 确定一个默认的overview视角作为后备\n",
    "- [ ] 设计一个机制,五级打分:没啥变化, 变好了, 变坏了, 太好了, 太坏了, 人只进行这样的评判, 然后可以在线地传递到instance的打分上\n",
    "- [ ] 结合yolov3与pose body, 实现快速识别\n",
    "- [ ] 自动提取object的skeleton信息，然后dqn之，以完善边缘的准确率\n",
    "- [x] 开始探索zoo\n",
    "- [ ] 赋予AI一些记忆(Memory),哪怕7秒的记忆,让前面一段时间识别的东西有留存,并且指导最新的工作.而不是摄像头的机械记忆."
   ]
  },
  {
   "cell_type": "markdown",
   "metadata": {},
   "source": [
    "# 细节\n",
    "利用erosion dilation缩骨 还原\n",
    "- ## 色彩区块链，任意选定一个锚点，其他色彩点，可以以lab色彩变换id信息作为索引，记录色彩区块的相对位置，互相引用确定相对位置（考究引用完备性），方便normalize来处理目标在图片中不同大小和旋转的情况，便于分层人类理解\n",
    "- ## 先根据色彩信息膨胀，提取边缘信息，膨胀细节由监督学习指导，然后腐蚀提取骨架信息，根据骨架画操场椭圆，求二阶导提取边缘关键点，根据操场椭圆曲线进行语义分类，粗分之后带着分类信息再从头run一遍进行细分，如此两三遍锁定概率置信度\n",
    "- ## 使用meanshift加drl规定出ab圆上的视觉边界，不同粒度关于色彩丰富度的情况\n",
    "- ## 利用树结构从叶子到根逆推, 我操,平移旋转不变性??? 树的节点包括, (节点id,节点相对坐标, 多对应情况, 节点腐蚀轮数,节点色彩分布(后面再说))\n",
    "- ## 也可以右侧顺时针旋转搜索关键点\n",
    "- ## 对于每个关键节点安排一个阈值和置信树, 训练阈值和置信度便能确立模型"
   ]
  },
  {
   "cell_type": "markdown",
   "metadata": {
    "toc-hr-collapsed": false
   },
   "source": [
    "# 先形状,后色彩, 阈值信息参与决策\n",
    "把确定的边界关键点定下来, 不能确定的就不确定, 空在那里, 交由形状匹配器给出置信度,置信模糊的再进一步细化色彩边界再评估\n",
    "- 阈值信息是指, 提取形状时使用的阈值大小\n",
    "## 从色彩提取形状要先粗后细,否则会陷入计算量的陷阱\n",
    "\n",
    "## 粗分形状后,那些被形状隔开的色彩当以平均色和方差数据或直方图数据服务于形状判别"
   ]
  },
  {
   "cell_type": "markdown",
   "metadata": {},
   "source": [
    "# 考虑使用概率图模型的树来构建置信度传递体系"
   ]
  },
  {
   "cell_type": "markdown",
   "metadata": {},
   "source": [
    "- ## 完成度描述两件事: 第一, 当前mask占真实mask遗漏了多少, 第二, 当前mask比真实mask多兼并了附近别人的像素有多少"
   ]
  },
  {
   "cell_type": "code",
   "execution_count": null,
   "metadata": {},
   "outputs": [],
   "source": []
  }
 ],
 "metadata": {
  "kernelspec": {
   "display_name": "Python 3",
   "language": "python",
   "name": "python3"
  },
  "language_info": {
   "codemirror_mode": {
    "name": "ipython",
    "version": 3
   },
   "file_extension": ".py",
   "mimetype": "text/x-python",
   "name": "python",
   "nbconvert_exporter": "python",
   "pygments_lexer": "ipython3",
   "version": "3.6.5"
  },
  "toc-autonumbering": false,
  "toc-showcode": false,
  "toc-showmarkdowntxt": false
 },
 "nbformat": 4,
 "nbformat_minor": 2
}
