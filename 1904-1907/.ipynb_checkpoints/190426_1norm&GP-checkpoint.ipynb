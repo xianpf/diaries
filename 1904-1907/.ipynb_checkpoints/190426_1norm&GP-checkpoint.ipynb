{
 "cells": [
  {
   "cell_type": "markdown",
   "metadata": {},
   "source": [
    "#### 2019/04/26\n",
    "## ideas\n",
    "\n",
    "- [ ] 球坐标经纬度范围加zoom信息及其归一化与置信度，经纬度上的高斯，随时间方差增大\n",
    "- [ ] region proposal with hsv, 宽阈值筛选， 然后再精细化阈值， 辨认脸型\n",
    "\n",
    "## 今日任务\n",
    "- [ ] 完成了参数归一化, 目前实验看来不太可行, 因为拓展到全局之后效果很差,大概30多, 之前前3层的应该是拜托后面基层的挽救了"
   ]
  },
  {
   "cell_type": "markdown",
   "metadata": {},
   "source": [
    "\n",
    "## 历史任务\n",
    "- [ ] 把annotation里面的游程编码一条一条在原图上标出来,搞懂,并且会用coco.py给的接口\n",
    "- [ ] 搞明白评价接口,能随意使用判定预测结果的准确率\n",
    "- [x] 开始找DQN pytorch的代码\n",
    "- [ ] 开始找PPO pytorch的代码\n",
    "- [ ] 找到rcnn训练崩溃的原因\n",
    "- [ ] 训练一个神经网络来指导(为instance打分)选择对象以及调整, 考虑bbox大小, 中心位置占画面长宽的比例, \n",
    "- [ ] 确定一个默认的overview视角作为后备\n",
    "- [ ] 设计一个机制,五级打分:没啥变化, 变好了, 变坏了, 太好了, 太坏了, 人只进行这样的评判, 然后可以在线地传递到instance的打分上\n",
    "- [ ] 结合yolov3与pose body, 实现快速识别\n",
    "- [ ] 自动提取object的skeleton信息，然后dqn之，以完善边缘的准确率\n",
    "- [x] 开始探索zoo\n",
    "- [ ] 赋予AI一些记忆(Memory),哪怕7秒的记忆,让前面一段时间识别的东西有留存,并且指导最新的工作.而不是摄像头的机械记忆."
   ]
  },
  {
   "cell_type": "markdown",
   "metadata": {},
   "source": [
    "- [x] 参数归一化，梯度下降也要归一化，normalization的在线版，一次直接分配到位，使得梯度更新之后所有weight的和依然为1, 观察考虑HSV,保存历史数据\n",
    "    + 直观的目的是为了防止输出特别大\n",
    "    - 也许它具有稳定后层输入的分布的功能呢\n",
    "- [x] 理解清楚optimizer在BP中的具体做法\n",
    "- [x] 理解清楚module的包含内容\n",
    "- [x] 理解清楚parameters\n",
    "- [x] xtool, 图片显示工具 eg loss的记录与准实时画图，以及GIF图生成\n",
    "- [x] xtool, json数据的动态存储\n",
    "- [x] xtool, 生成训练report工具, 保存历史数据, weight显示工具\n",
    "- [x] 解决zoom与speed的关系问题\n",
    "- [x] 结合yolov3与face detection, 实现快速识别\n",
    "- [x] 写2000字的EE8001\n",
    "- [x] 小改xtool，实现不显示只保存图片"
   ]
  },
  {
   "cell_type": "markdown",
   "metadata": {},
   "source": [
    "## 工作"
   ]
  },
  {
   "cell_type": "markdown",
   "metadata": {},
   "source": [
    "## GP\n",
    "## [如何通俗易懂地介绍 Gaussian Process？](https://www.zhihu.com/question/46631426)"
   ]
  },
  {
   "cell_type": "markdown",
   "metadata": {},
   "source": [
    "<p>一种理解GP regression的方式是为数据的回归值建立联合分布。<br>假设观察到的数据集是<img src=\"https://www.zhihu.com/equation?tex=D+%3D+%5C%7B%28%5Cmathbf%7Bx%7D_1%2C+y_1%29%2C...%2C%28%5Cmathbf%7Bx%7D_i%2Cy%29_i%2C...%2C%28%5Cmathbf%7Bx%7D_N+%2Cy_N%29%5C%7D\" alt=\"D = \\{(\\mathbf{x}_1, y_1),...,(\\mathbf{x}_i,y)_i,...,(\\mathbf{x}_N ,y_N)\\}\" eeimg=\"1\">，<br>其中 <img src=\"https://www.zhihu.com/equation?tex=%5Cforall+i%5C+%5Cmathbf%7Bx%7D_i%5Cin+R%5Ed%2C+y_i%5Cin+R\" alt=\"\\forall i\\ \\mathbf{x}_i\\in R^d, y_i\\in R\" eeimg=\"1\">，需要预测的是新样本<img src=\"https://www.zhihu.com/equation?tex=%5Cmathbf%7Bx%7D_%7BN%2B1%7D\" alt=\"\\mathbf{x}_{N+1}\" eeimg=\"1\">的回归值<img src=\"https://www.zhihu.com/equation?tex=y_%7BN%2B1%7D\" alt=\"y_{N+1}\" eeimg=\"1\">。<br>为了方便表述，这里令<img src=\"https://www.zhihu.com/equation?tex=%5Cmathbf%7By%7D_N+%3D+%5By_1%2C+...%2C+y_N%5D%5ET\" alt=\"\\mathbf{y}_N = [y_1, ..., y_N]^T\" eeimg=\"1\">，<img src=\"https://www.zhihu.com/equation?tex=%5Cmathbf%7By%7D_%7BN%2B1%7D+%3D+%5By_1%2C+...%2C+y_N%2Cy_%7BN%2B1%7D%5D%5ET\" alt=\"\\mathbf{y}_{N+1} = [y_1, ..., y_N,y_{N+1}]^T\" eeimg=\"1\">，<img src=\"https://www.zhihu.com/equation?tex=%5Cmathbf%7BX%7D_%7BN%2B1%7D+%3D+%7B%5B%5Cmathbf%7Bx%7D_1%2C+...%2C+%5Cmathbf%7Bx%7D_N%2C+%5Cmathbf%7Bx%7D_%7BN%2B1%7D%5D%7D%5ET\" alt=\"\\mathbf{X}_{N+1} = {[\\mathbf{x}_1, ..., \\mathbf{x}_N, \\mathbf{x}_{N+1}]}^T\" eeimg=\"1\">（<b>注意粗体和非粗体的区别</b>）。</p>"
   ]
  },
  {
   "cell_type": "markdown",
   "metadata": {},
   "source": [
    "<p>从方法论上说，GP是在为一个关于<img src=\"https://www.zhihu.com/equation?tex=y_%7BN%2B1%7D+%7C+%5Cmathbf%7By%7D_N\" alt=\"y_{N+1} | \\mathbf{y}_N\" eeimg=\"1\">的条件概率<img src=\"https://www.zhihu.com/equation?tex=P%28y_%7BN%2B1%7D+%7C+%5Cmathbf%7By%7D_N%2C+%5Cmathbf%7BX%7D_%7BN%2B1%7D%29\" alt=\"P(y_{N+1} | \\mathbf{y}_N, \\mathbf{X}_{N+1})\" eeimg=\"1\">进行建模，相当于说给定观察到的所有数据，问样本<img src=\"https://www.zhihu.com/equation?tex=%5Cmathbf%7Bx%7D_%7BN%2B1%7D\" alt=\"\\mathbf{x}_{N+1}\" eeimg=\"1\">预测值<img src=\"https://www.zhihu.com/equation?tex=y_%7BN%2B1%7D\" alt=\"y_{N+1}\" eeimg=\"1\">的分布。但是GP并没有直接对这个条件分布进行建模，而是从联合分布开始，也就是对<img src=\"https://www.zhihu.com/equation?tex=%5Cmathbf%7By%7D_%7BN%2B1%7D\" alt=\"\\mathbf{y}_{N+1}\" eeimg=\"1\">的联合概率<img src=\"https://www.zhihu.com/equation?tex=P%28%5Cmathbf%7By%7D_%7BN%2B1%7D+%7C+%5Cmathbf%7BX%7D_%7BN%2B1%7D%29\" alt=\"P(\\mathbf{y}_{N+1} | \\mathbf{X}_{N+1})\" eeimg=\"1\"> 进行建模，当有这个联合概率已知的时候，就可以通过以下式子得到新样本预测值的条件概率：</p>"
   ]
  },
  {
   "cell_type": "markdown",
   "metadata": {},
   "source": [
    "<p><img src=\"https://www.zhihu.com/equation?tex=P%28y_%7BN%2B1%7D+%7C+%5Cmathbf%7By%7D_N%2C+%5Cmathbf%7BX%7D_%7BN%2B1%7D%29+%3D+%5Cfrac%7BP%28%5Cmathbf%7By%7D_%7BN%2B1%7D+%7C+%5Cmathbf%7BX%7D_%7BN%2B1%7D%29%7D%7BP%28%5Cmathbf%7By%7D_%7BN%7D+%7C+%5Cmathbf%7BX%7D_%7BN%2B1%7D%29%7D+%3D+%5Cfrac%7BP%28%5Cmathbf%7By%7D_%7BN%2B1%7D+%7C+%5Cmathbf%7BX%7D_%7BN%2B1%7D%29%7D%7B%5Cint_%7By_%7BN%2B1%7D%7D+P%28%5Cmathbf%7By%7D_%7BN%2B1%7D+%7C+%5Cmathbf%7BX%7D_%7BN%2B1%7D%29+d+y_%7BN%2B1%7D%7D\" alt=\"P(y_{N+1} | \\mathbf{y}_N, \\mathbf{X}_{N+1}) = \\frac{P(\\mathbf{y}_{N+1} | \\mathbf{X}_{N+1})}{P(\\mathbf{y}_{N} | \\mathbf{X}_{N+1})} = \\frac{P(\\mathbf{y}_{N+1} | \\mathbf{X}_{N+1})}{\\int_{y_{N+1}} P(\\mathbf{y}_{N+1} | \\mathbf{X}_{N+1}) d y_{N+1}}\" eeimg=\"1\"></p>\n",
    "<p>显然，核心就是建立 <img src=\"https://www.zhihu.com/equation?tex=P%28%5Cmathbf%7By%7D_%7BN%2B1%7D+%7C+%5Cmathbf%7BX%7D_%7BN%2B1%7D%29\" alt=\"P(\\mathbf{y}_{N+1} | \\mathbf{X}_{N+1})\" eeimg=\"1\">  的具体形式，然后求出关于<img src=\"https://www.zhihu.com/equation?tex=y_%7BN%2B1%7D\" alt=\"y_{N+1}\" eeimg=\"1\">的条件概率</p>\n",
    "<p>现在假设 <img src=\"https://www.zhihu.com/equation?tex=P%28%5Cmathbf%7By%7D_%7BN%2B1%7D%7C+%5Cmathbf%7BX%7D_%7BN%2B1%7D%2C+%5Cmathbf%7Bw%7D%29+%3D+N%28%5Cmathbf%7By%7D_%7BN%2B1%7D+%7C+%5Cmathbf%7BX%7D_%7BN%2B1%7D%5Cmathbf%7Bw%7D%2C+I+%5Csigma_1%5E2%29\" alt=\"P(\\mathbf{y}_{N+1}| \\mathbf{X}_{N+1}, \\mathbf{w}) = N(\\mathbf{y}_{N+1} | \\mathbf{X}_{N+1}\\mathbf{w}, I \\sigma_1^2)\" eeimg=\"1\"> 是高斯分布，其中<img src=\"https://www.zhihu.com/equation?tex=%5Cmathbf%7Bw%7D\" alt=\"\\mathbf{w}\" eeimg=\"1\">是一个潜在的线性模型的参数，<img src=\"https://www.zhihu.com/equation?tex=%5Cmathbf%7Bw%7D\" alt=\"\\mathbf{w}\" eeimg=\"1\">也服从高斯分布 <img src=\"https://www.zhihu.com/equation?tex=%5Cmathbf%7Bw%7D%5Csim+N%28%5Cmathbf%7Bw%7D+%7C+0%2C+I%5Csigma_2%5E2%29\" alt=\"\\mathbf{w}\\sim N(\\mathbf{w} | 0, I\\sigma_2^2)\" eeimg=\"1\">，那么就有</p>"
   ]
  },
  {
   "cell_type": "markdown",
   "metadata": {},
   "source": [
    "<p><img src=\"https://www.zhihu.com/equation?tex=P%28%5Cmathbf%7By%7D_%7BN%2B1%7D+%7C+%5Cmathbf%7BX%7D_%7BN%2B1%7D%29+%3D+%5Cint_%7B%5Cmathbf%7Bw%7D%7DN%28%5Cmathbf%7By%7D_%7BN%2B1%7D%7C%5Cmathbf%7BX%7D_%7BN%2B1%7D%5Cmathbf%7Bw%7D%2C+I%5Csigma_1%5E2%29%5C++N%28%5Cmathbf%7Bw%7D%7C0%2C+I%5Csigma_2%5E2%29%5C+d+%5Cmathbf%7Bw%7D+%3D+N%28%5Cmathbf%7By%7D_%7BN%2B1%7D+%7C+0%2C+I%5Csigma_1%5E2+%2B++%5Cmathbf%7BX%7D_%7BN%2B1%7D%5Cmathbf%7BX%7D_%7BN%2B1%7D%5ET%5Csigma_2%5E2%29\" alt=\"P(\\mathbf{y}_{N+1} | \\mathbf{X}_{N+1}) = \\int_{\\mathbf{w}}N(\\mathbf{y}_{N+1}|\\mathbf{X}_{N+1}\\mathbf{w}, I\\sigma_1^2)\\  N(\\mathbf{w}|0, I\\sigma_2^2)\\ d \\mathbf{w} = N(\\mathbf{y}_{N+1} | 0, I\\sigma_1^2 +  \\mathbf{X}_{N+1}\\mathbf{X}_{N+1}^T\\sigma_2^2)\" eeimg=\"1\"><br>可见<img src=\"https://www.zhihu.com/equation?tex=P%28%5Cmathbf%7By%7D_%7BN%2B1%7D+%7C+%5Cmathbf%7BX%7D_%7BN%2B1%7D%29\" alt=\"P(\\mathbf{y}_{N+1} | \\mathbf{X}_{N+1})\" eeimg=\"1\">还是一种高斯分布，并且这里的<img src=\"https://www.zhihu.com/equation?tex=%5Cmathbf%7BX%7D_%7BN%2B1%7D%5Cmathbf%7BX%7D_%7BN%2B1%7D%5ET\" alt=\"\\mathbf{X}_{N+1}\\mathbf{X}_{N+1}^T\" eeimg=\"1\">可以替换成kernel矩阵，也就可以引入非线性变换（说<b>替换</b>可能不是很妥，不过容易理解）。</p>\n"
   ]
  },
  {
   "cell_type": "markdown",
   "metadata": {},
   "source": [
    "<p>有了<img src=\"https://www.zhihu.com/equation?tex=%5Cmathbf%7By%7D_%7BN%2B1%7D\" alt=\"\\mathbf{y}_{N+1}\" eeimg=\"1\">的联合分布，求其条件分布<img src=\"https://www.zhihu.com/equation?tex=P%28y_%7BN%2B1%7D+%7C+%5Cmathbf%7By%7D_N%2C+%5Cmathbf%7BX%7D_%7BN%2B1%7D%29\" alt=\"P(y_{N+1} | \\mathbf{y}_N, \\mathbf{X}_{N+1})\" eeimg=\"1\">就非常简单，如下：</p>\n",
    "<p>令<img src=\"https://www.zhihu.com/equation?tex=%5Cbegin%7Bbmatrix%7D%0A%5Cmathbf%7B%5CSigma%7D_%7BN%7D%2C+%5Cmathbf%7B%5CSigma%7D%27+%5C%5C%0A%5Cmathbf%7B%5CSigma%7D%27%5ET%2C+%5Csigma_%7BN%2B1%7D%0A%5Cend%7Bbmatrix%7D+%3D+I%5Csigma_1%5E2+%2B++%5Cmathbf%7BX%7D_%7BN%2B1%7D%5Cmathbf%7BX%7D_%7BN%2B1%7D%5ET%5Csigma_2%5E2\" alt=\"\\begin{bmatrix}\n",
    "\\mathbf{\\Sigma}_{N}, \\mathbf{\\Sigma}' \\\\\n",
    "\\mathbf{\\Sigma}'^T, \\sigma_{N+1}\n",
    "\\end{bmatrix} = I\\sigma_1^2 +  \\mathbf{X}_{N+1}\\mathbf{X}_{N+1}^T\\sigma_2^2\" eeimg=\"1\">，其中<img src=\"https://www.zhihu.com/equation?tex=%5CSigma%27\" alt=\"\\Sigma'\" eeimg=\"1\">是个向量，而<img src=\"https://www.zhihu.com/equation?tex=%5Cmathbf%7B%5CSigma%7D_N\" alt=\"\\mathbf{\\Sigma}_N\" eeimg=\"1\">是前<img src=\"https://www.zhihu.com/equation?tex=N\" alt=\"N\" eeimg=\"1\">个变量的协方差矩阵，有</p>"
   ]
  },
  {
   "cell_type": "markdown",
   "metadata": {},
   "source": [
    "<p><img src=\"https://www.zhihu.com/equation?tex=P%28y_%7BN%2B1%7D+%7C+%5Cmathbf%7By%7D_N%2C+%5Cmathbf%7BX%7D_%7BN%2B1%7D%29+%3D+N%28y_%7BN%2B1%7D%7C%5CSigma%27%5ET+%5CSigma_N%5E%7B-1%7D%5Cmathbf%7By%7D_N%2C+%5Csigma_%7BN%2B1%7D+-+%5CSigma%27%5ET%5CSigma_N%5E%7B-1%7D%5CSigma%27%29\" alt=\"P(y_{N+1} | \\mathbf{y}_N, \\mathbf{X}_{N+1}) = N(y_{N+1}|\\Sigma'^T \\Sigma_N^{-1}\\mathbf{y}_N, \\sigma_{N+1} - \\Sigma'^T\\Sigma_N^{-1}\\Sigma')\" eeimg=\"1\"></p>"
   ]
  },
  {
   "cell_type": "markdown",
   "metadata": {},
   "source": [
    "<p>这个高斯分布的均值位置<img src=\"https://www.zhihu.com/equation?tex=%5CSigma%27%5ET+%5CSigma_N%5E%7B-1%7D%5Cmathbf%7By%7D_N\" alt=\"\\Sigma'^T \\Sigma_N^{-1}\\mathbf{y}_N\" eeimg=\"1\">就是<img src=\"https://www.zhihu.com/equation?tex=y_%7BN%2B1%7D\" alt=\"y_{N+1}\" eeimg=\"1\">可能性最大的预测值（计算量还是挺大的），GP的一大好处是预测的方差也可以知道。</p>"
   ]
  },
  {
   "cell_type": "markdown",
   "metadata": {},
   "source": [
    "<p>以上是最简单的GP regression的形式。GP可以通过多种角度看待，上面这种一般称作是Weight-space View，此外还有Function-space View。</p>"
   ]
  },
  {
   "cell_type": "markdown",
   "metadata": {},
   "source": []
  }
 ],
 "metadata": {
  "kernelspec": {
   "display_name": "Python 3",
   "language": "python",
   "name": "python3"
  },
  "language_info": {
   "codemirror_mode": {
    "name": "ipython",
    "version": 3
   },
   "file_extension": ".py",
   "mimetype": "text/x-python",
   "name": "python",
   "nbconvert_exporter": "python",
   "pygments_lexer": "ipython3",
   "version": "3.6.5"
  },
  "toc-autonumbering": false,
  "toc-showcode": false,
  "toc-showmarkdowntxt": false
 },
 "nbformat": 4,
 "nbformat_minor": 2
}
