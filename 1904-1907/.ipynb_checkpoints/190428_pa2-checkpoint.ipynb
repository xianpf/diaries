{
 "cells": [
  {
   "cell_type": "markdown",
   "metadata": {},
   "source": [
    "#### 2019/04/28\n",
    "## ideas\n",
    "\n",
    "- [ ] 球坐标经纬度范围加zoom信息及其归一化与置信度，经纬度上的高斯，随时间方差增大\n",
    "- [ ] region proposal with hsv 记录邻域, 宽阈值筛选， 然后再精细化阈值， 辨认脸型\n",
    "\n",
    "## 今日任务\n",
    "- [ ] 完成了参数归一化, 目前实验看来不太可行, 因为拓展到全局之后效果很差,大概30多, 之前前3层的应该是拜托后面基层的挽救了"
   ]
  },
  {
   "cell_type": "markdown",
   "metadata": {},
   "source": [
    "\n",
    "## 以前任务\n",
    "- [ ] 把annotation里面的游程编码一条一条在原图上标出来,搞懂,并且会用coco.py给的接口\n",
    "- [ ] 搞明白评价接口,能随意使用判定预测结果的准确率\n",
    "- [x] 开始找DQN pytorch的代码\n",
    "- [ ] 开始找PPO pytorch的代码\n",
    "- [ ] 找到rcnn训练崩溃的原因\n",
    "- [ ] 训练一个神经网络来指导(为instance打分)选择对象以及调整, 考虑bbox大小, 中心位置占画面长宽的比例, \n",
    "- [ ] 确定一个默认的overview视角作为后备\n",
    "- [ ] 设计一个机制,五级打分:没啥变化, 变好了, 变坏了, 太好了, 太坏了, 人只进行这样的评判, 然后可以在线地传递到instance的打分上\n",
    "- [ ] 结合yolov3与pose body, 实现快速识别\n",
    "- [ ] 自动提取object的skeleton信息，然后dqn之，以完善边缘的准确率\n",
    "- [x] 开始探索zoo\n",
    "- [ ] 赋予AI一些记忆(Memory),哪怕7秒的记忆,让前面一段时间识别的东西有留存,并且指导最新的工作.而不是摄像头的机械记忆."
   ]
  },
  {
   "cell_type": "markdown",
   "metadata": {},
   "source": [
    "- [x] 参数归一化，梯度下降也要归一化，normalization的在线版，一次直接分配到位，使得梯度更新之后所有weight的和依然为1, 观察考虑HSV,保存历史数据\n",
    "    + 直观的目的是为了防止输出特别大\n",
    "    - 也许它具有稳定后层输入的分布的功能呢\n",
    "- [x] 理解清楚optimizer在BP中的具体做法\n",
    "- [x] 理解清楚module的包含内容\n",
    "- [x] 理解清楚parameters\n",
    "- [x] xtool, 图片显示工具 eg loss的记录与准实时画图，以及GIF图生成\n",
    "- [x] xtool, json数据的动态存储\n",
    "- [x] xtool, 生成训练report工具, 保存历史数据, weight显示工具\n",
    "- [x] 解决zoom与speed的关系问题\n",
    "- [x] 结合yolov3与face detection, 实现快速识别\n",
    "- [x] 写2000字的EE8001\n",
    "- [x] 小改xtool，实现不显示只保存图片"
   ]
  },
  {
   "cell_type": "markdown",
   "metadata": {},
   "source": [
    "## 工作"
   ]
  },
  {
   "cell_type": "markdown",
   "metadata": {},
   "source": [
    "# training PA2\n",
    "## requirements\n",
    "### Part1 (a)\n",
    "- [x] MLP, \n",
    "- [x] linear activation & MSE as the loss function\n",
    "- [x] new activation and/or loss function time-component \n",
    "### Part1 (b) \n",
    "- None\n",
    "### Part1 (c)\n",
    "- compare (a)中的两个效果"
   ]
  },
  {
   "cell_type": "markdown",
   "metadata": {},
   "source": [
    "### Part2 (a)\n",
    "regularization\n",
    "- [ ] L2\n",
    "- [ ] L1\n",
    "- [ ] drop-out\n",
    "- [ ] ensembling\n",
    "- [ ] early-stopping\n",
    "- [ ] data augmentation\n",
    "- [ ] etc.\n",
    "### Part1 (b) \n",
    "add various types of architecture components\n",
    "- [ ] batch norm\n",
    "- [ ] ResNet\n",
    "- [ ] DenseNet\n",
    "- [ ] attention\n",
    "- [ ] etc"
   ]
  },
  {
   "cell_type": "markdown",
   "metadata": {},
   "source": [
    "```shell\n",
    "(base) xianr@Xlab:~/Desktop/Machine Learning/Assifnment4CS6487/PA2/code$ /home/xianr/anaconda3/bin/python \"/home/xianr/Desktop/Machine Learning/Assifnment4CS6487/PA2/code/test.py\"\n",
    "Test Loss: 1.6391289131394748\n",
    "1.6391289131394748\n",
    "Test Loss: 0.6925768044231266\n",
    "0.6925768044231266\n",
    "Test Loss: 1.0240597634479918\n",
    "1.0240597634479918\n",
    "Test Loss: 1.118967168701106\n",
    "1.118967168701106\n",
    "Test Loss: 0.687670956975941\n",
    "0.687670956975941\n",
    "Test Loss: 0.7310547278102102\n",
    "0.7310547278102102\n",
    "Test Loss: 0.6880612186702161\n",
    "/home/xianr/anaconda3/lib/python3.6/site-packages/matplotlib/pyplot.py:537: RuntimeWarning: More than 20 figures have been opened. Figures created through the pyplot interface (`matplotlib.pyplot.figure`) are retained until explicitly closed and may consume too much memory. (To control this warning, see the rcParam `figure.max_open_warning`).\n",
    "  max_open_warning, RuntimeWarning)\n",
    "0.6880612186702161\n",
    "Test Loss: 0.6796521338537849\n",
    "0.6796521338537849\n",
    "Test Loss: 1.1525284444463664\n",
    "1.1525284444463664\n",
    "(base) xianr@Xlab:~/Desktop/Machine Learning/Assifnment4CS6487/PA2/code$\n",
    "```"
   ]
  },
  {
   "cell_type": "code",
   "execution_count": null,
   "metadata": {},
   "outputs": [],
   "source": []
  }
 ],
 "metadata": {
  "kernelspec": {
   "display_name": "Python 3",
   "language": "python",
   "name": "python3"
  },
  "language_info": {
   "codemirror_mode": {
    "name": "ipython",
    "version": 3
   },
   "file_extension": ".py",
   "mimetype": "text/x-python",
   "name": "python",
   "nbconvert_exporter": "python",
   "pygments_lexer": "ipython3",
   "version": "3.6.5"
  },
  "toc-autonumbering": false,
  "toc-showcode": false,
  "toc-showmarkdowntxt": false
 },
 "nbformat": 4,
 "nbformat_minor": 2
}
