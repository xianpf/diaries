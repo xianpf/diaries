{
 "cells": [
  {
   "cell_type": "markdown",
   "metadata": {},
   "source": [
    "#### 2019/05/08\n",
    "# Mask R-CNN \n",
    "- 注意源码中的size()可能需要改成size()[0]\n",
    "## ideas\n",
    "- [ ] mask rcnn的结果进行ppo, roialign或rpn之后的特征处开始训练actor critic, 看看最终能不能帮助改善rcnn, 主要是为了提高iou\n",
    "- [ ] 球坐标经纬度范围加zoom信息及其归一化与置信度，经纬度上的高斯，随时间方差增大\n",
    "- [ ] region proposal with hsv 记录邻域, 宽阈值筛选， 然后再精细化阈值， 辨认脸型\n",
    "- [ ] 图像的小片方差也有它的边缘信息, 即, 两个预处理, LAB转换和方差map\n",
    "\n",
    "## 今日任务\n",
    "- [x] 跑通mask rcnn\n",
    "- [ ] 了解[俄罗斯小哥](https://mp.weixin.qq.com/s/3B3YVGaIRAzEaVojD0Qq3g)的[github](https://github.com/qubvel/segmentation_models.pytorch)"
   ]
  },
  {
   "cell_type": "markdown",
   "metadata": {},
   "source": [
    "\n",
    "## 以前任务\n",
    "- [ ] 把annotation里面的游程编码一条一条在原图上标出来,搞懂,并且会用coco.py给的接口\n",
    "- [ ] 搞明白评价接口,能随意使用判定预测结果的准确率\n",
    "- [x] 开始找DQN pytorch的代码\n",
    "- [ ] 开始找PPO pytorch的代码\n",
    "- [ ] 找到rcnn训练崩溃的原因\n",
    "- [ ] 训练一个神经网络来指导(为instance打分)选择对象以及调整, 考虑bbox大小, 中心位置占画面长宽的比例, \n",
    "- [ ] 确定一个默认的overview视角作为后备\n",
    "- [ ] 设计一个机制,五级打分:没啥变化, 变好了, 变坏了, 太好了, 太坏了, 人只进行这样的评判, 然后可以在线地传递到instance的打分上\n",
    "- [ ] 结合yolov3与pose body, 实现快速识别\n",
    "- [ ] 自动提取object的skeleton信息，然后dqn之，以完善边缘的准确率\n",
    "- [x] 开始探索zoo\n",
    "- [ ] 赋予AI一些记忆(Memory),哪怕7秒的记忆,让前面一段时间识别的东西有留存,并且指导最新的工作.而不是摄像头的机械记忆."
   ]
  },
  {
   "cell_type": "markdown",
   "metadata": {},
   "source": [
    "- [x] "
   ]
  },
  {
   "cell_type": "markdown",
   "metadata": {},
   "source": [
    "## 工作"
   ]
  },
  {
   "cell_type": "markdown",
   "metadata": {},
   "source": [
    "\n",
    "```shell \n",
    "python coco.py train --dataset=/home/xianr/data/utils/datasets/coco --model=xpfcoco\n",
    "python coco.py train --dataset=/home/xianr/TurboProjects/coco --model=coco\n",
    "python coco.py train --dataset=/home/xianr/TurboProjects/coco --model=last\n",
    "```"
   ]
  },
  {
   "cell_type": "markdown",
   "metadata": {},
   "source": [
    "## 报错: \n",
    "```python\n",
    "/home/xianr/data/projects/pytorch-mask-rcnn/model.py(439)pyramid_roi_align()\n",
    "-> y1, x1, y2, x2 = boxes.chunk(4, dim=1)\n",
    "boxes = inputs[0]\n",
    "inputs 来自 def pyramid_roi_align(inputs, pool_size, image_shape): (406)\n",
    "```\n"
   ]
  },
  {
   "cell_type": "markdown",
   "metadata": {},
   "source": [
    "## nn.Module的__setattr__是被重写了的，所以在self.rpn = RPN()的时候，会调用nn.Module的__setattr__，判断加进来的\n",
    "- ### 是不是Parameter，若是，加到当前module的Parameter的name下\n",
    "- ### 是不是Module，若是，加到当前module的name下 ```modules[name] = value```\n",
    "- ### 变量名name在不在_buffer里，若在，更新_buffer的name ```buffers[name] = value```\n",
    "- ### 若都不是, 走object的_setattr__, 也就是正常的self.name = value"
   ]
  },
  {
   "cell_type": "markdown",
   "metadata": {},
   "source": [
    "##  coco评估时的转换\n",
    "```Python\n",
    "(Pdb) cocoEval._dts[(90155, 7)][0].keys()\n",
    "    dict_keys(['image_id', 'category_id', 'bbox', 'score', 'segmentation', 'area', 'id', 'iscrowd'])\n",
    "(Pdb) cocoEval._gts[(90155, 7)][0].keys()\n",
    "    dict_keys(['segmentation', 'area', 'iscrowd', 'image_id', 'bbox', 'category_id', 'id', 'ignore', '_ignore'])\n",
    "```\n",
    "- 可见, groundtruth和detection的字典结构基本一样, 唯一的区别在于gt有'ignore'和'_ignore'而没有'score'"
   ]
  },
  {
   "cell_type": "markdown",
   "metadata": {},
   "source": [
    "### How to create mask images from COCO dataset?\n",
    "- [How to create mask images from COCO dataset?](https://stackoverflow.com/questions/50805634/how-to-create-mask-images-from-coco-dataset)\n",
    "- code\n",
    "\n",
    "```python\n",
    "dataDir='G:'\n",
    "dataType='train2014'\n",
    "annFile='{}/annotations/instances_{}.json'.format(dataDir,dataType)\n",
    "\n",
    "\n",
    "coco=COCO(annFile)\n",
    "annFile = '{}/annotations/person_keypoints_{}.json'.format(dataDir,dataType)\n",
    "coco_kps=COCO(annFile)\n",
    "\n",
    "\n",
    "catIds = coco.getCatIds(catNms=['person'])\n",
    "imgIds = coco.getImgIds(catIds=catIds );\n",
    "imgIds = coco.getImgIds(imgIds = imgIds[0])\n",
    "img = coco.loadImgs(imgIds[np.random.randint(0,len(imgIds))])[0]\n",
    "I = io.imread('G:/train2014/'+img['file_name'])\n",
    "\n",
    "plt.imshow(I); plt.axis('off')\n",
    "annIds = coco.getAnnIds(imgIds=img['id'], catIds=catIds, iscrowd=None)\n",
    "anns = coco.loadAnns(annIds)\n",
    "coco.showAnns(anns)\n",
    "\n",
    "#######################################\n",
    "mask = coco.annToMask(anns[0])\n",
    "for i in range(len(anns)):\n",
    "    mask += coco.annToMask(anns[i])\n",
    "\n",
    "plt.imshow(mask)\n",
    "```"
   ]
  },
  {
   "cell_type": "code",
   "execution_count": null,
   "metadata": {},
   "outputs": [],
   "source": []
  }
 ],
 "metadata": {
  "kernelspec": {
   "display_name": "Python 3",
   "language": "python",
   "name": "python3"
  },
  "language_info": {
   "codemirror_mode": {
    "name": "ipython",
    "version": 3
   },
   "file_extension": ".py",
   "mimetype": "text/x-python",
   "name": "python",
   "nbconvert_exporter": "python",
   "pygments_lexer": "ipython3",
   "version": "3.6.5"
  },
  "toc-autonumbering": false,
  "toc-showcode": false,
  "toc-showmarkdowntxt": false
 },
 "nbformat": 4,
 "nbformat_minor": 2
}
