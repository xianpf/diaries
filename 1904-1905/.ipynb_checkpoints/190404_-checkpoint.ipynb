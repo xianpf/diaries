{
 "cells": [
  {
   "cell_type": "markdown",
   "metadata": {},
   "source": [
    "# 2019/04/04 \n",
    "## 任务\n",
    "```shell \n",
    "python coco.py train --dataset=/home/xianr/data/utils/datasets/coco --model=xpfcoco```\n",
    "- [x] 提取COCO数据集的原图, mask, id\n",
    "- [x] 获取mask RCNN相应的预测结果\n",
    "- [ ] xtool, 图片显示工具\n",
    "- [ ] xtool, 折线画图工具\n",
    "- [ ] 把annotation里面的游程编码一条一条在原图上标出来,搞懂,并且会用coco.py给的接口\n",
    "- [ ] 搞明白评价接口,能随意使用判定预测结果的准确率\n",
    "- [ ] 开始找DQN pytorch的代码\n",
    "- [ ] 找到rcnn训练崩溃的原因\n",
    "- [ ] 训练一个神经网络来指导(为instance打分)选择对象以及调整, 考虑bbox大小, 中心位置占画面长宽的比例, \n"
   ]
  },
  {
   "cell_type": "markdown",
   "metadata": {},
   "source": [
    "# **COCO数据封装细致探究**\n",
    "```python\n",
    "coco_dataset_path = '/home/xianr/data/utils/datasets/coco'\n",
    "dataset_train = CocoDataset()\n",
    "coco1 = dataset_train.load_coco(coco_dataset_path, \"train\", return_coco=True)\n",
    "dataset_train.prepare()\n",
    "\n",
    "from model import Dataset\n",
    "config = CocoConfig()\n",
    "train_set = Dataset(dataset_train, config, augment=True)\n",
    "train_generator = torch.utils.data.DataLoader(train_set, batch_size=1, shuffle=False, num_workers=1)\n",
    "for inputs in train_generator:\n",
    "    images = inputs[0]\n",
    "    image_metas = inputs[1]\n",
    "    rpn_match = inputs[2]\n",
    "    rpn_bbox = inputs[3]\n",
    "    gt_class_ids = inputs[4]\n",
    "    gt_boxes = inputs[5]\n",
    "    gt_masks = inputs[6]\n",
    "```\n",
    "- len(train_generator) = 82081\n",
    "- len(train_set) = 82081\n",
    "- len(train_generator) = 82081\n",
    "- len(inputs) = 7\n",
    "- **images:** type(inputs[0]) = <class 'torch.Tensor'>, inputs[0].shape = torch.Size([1, 3, 1024, 1024]), inputs[0].is_cuda = False\n",
    "- **image_metas:** type(inputs[1]) = <class 'torch.Tensor'>, inputs[1].shape = torch.Size([1, 89]), inputs[1].is_cuda = False\n",
    "- **rpn_match:** type(inputs[2]) = <class 'torch.Tensor'>, inputs[2].shape = torch.Size([1, 261888, 1]), inputs[2].is_cuda = False\n",
    "- **rpn_bbox:** type(inputs[3]) = <class 'torch.Tensor'>, inputs[3].shape = torch.Size([1, 256, 4]), inputs[3].is_cuda = False\n",
    "- **gt_class_ids:** type(inputs[4]) = <class 'torch.Tensor'>, inputs[4].shape = torch.Size([1, 32]), inputs[4].is_cuda = False\n",
    "- **gt_boxes:** type(inputs[5]) = <class 'torch.Tensor'>, inputs[5].shape = torch.Size([1, 32, 4]), inputs[5].is_cuda = False\n",
    "- **gt_masks:** type(inputs[6]) = <class 'torch.Tensor'>, inputs[6].shape = torch.Size([1, 32, 56, 56]), inputs[6].is_cuda = False"
   ]
  },
  {
   "cell_type": "markdown",
   "metadata": {
    "toc-hr-collapsed": false
   },
   "source": [
    "##### in ```model.py >> detection_target_layer```\n",
    "```python\n",
    "molded_images = images\n",
    "gt_masks = gt_masks.squeeze(0)\n",
    "gt_class_ids = gt_class_ids.squeeze(0)\n",
    "gt_boxes = gt_boxes.squeeze(0)\n",
    "from roialign.roi_align.crop_and_resize import CropAndResizeFunction\n",
    "\n",
    "if torch.nonzero(gt_class_ids < 0).size():\n",
    "    crowd_ix = torch.nonzero(gt_class_ids < 0)[:, 0]\n",
    "    non_crowd_ix = torch.nonzero(gt_class_ids > 0)[:, 0]\n",
    "    crowd_boxes = gt_boxes[crowd_ix.data, :]\n",
    "    crowd_masks = gt_masks[crowd_ix.data, :, :]\n",
    "    gt_class_ids = gt_class_ids[non_crowd_ix.data]\n",
    "    gt_boxes = gt_boxes[non_crowd_ix.data, :]\n",
    "    gt_masks = gt_masks[non_crowd_ix.data, :]\n",
    "    roi_masks = gt_masks\n",
    "    resizeFunc = CropAndResizeFunction(config.MASK_SHAPE[0], config.MASK_SHAPE[1], 0)\n",
    "    # masks = resizeFunc(roi_masks.unsqueeze(1), boxes, [0])\n",
    "```\n",
    "- ```python \n",
    "gt_masks = gt_masks.squeeze(0) : torch.Size([1, 32, 56, 56]) --> torch.Size([32, 56, 56])\n",
    "```\n",
    "- **里面居然有负值 (saying crowd):** gt_class_ids tensor([ 26,  26,  52,  52,  52,  52,   1,   1,   1,   1,   1,   1,\n",
    "          1,   1,   1,   1,   1,   1,  26,  52,  52,  52,  52,  52,\n",
    "         52,  52,  52,   1,  26,  52,  -1, -52], dtype=torch.int32)\n",
    "- **COCO中的拥挤框(群框,crowd)是几个实例围在同一个框里的边界框。 将他们从训练数据中排除。 拥挤框被赋予负ID。**\n",
    "         "
   ]
  },
  {
   "cell_type": "markdown",
   "metadata": {},
   "source": []
  },
  {
   "cell_type": "code",
   "execution_count": null,
   "metadata": {},
   "outputs": [],
   "source": []
  },
  {
   "cell_type": "code",
   "execution_count": null,
   "metadata": {},
   "outputs": [],
   "source": []
  },
  {
   "cell_type": "code",
   "execution_count": null,
   "metadata": {},
   "outputs": [],
   "source": []
  },
  {
   "cell_type": "markdown",
   "metadata": {
    "toc-hr-collapsed": false
   },
   "source": [
    "# Issues\n",
    "### **Q:** \n"
   ]
  },
  {
   "cell_type": "code",
   "execution_count": null,
   "metadata": {},
   "outputs": [],
   "source": []
  }
 ],
 "metadata": {
  "kernelspec": {
   "display_name": "Python 3",
   "language": "python",
   "name": "python3"
  },
  "language_info": {
   "codemirror_mode": {
    "name": "ipython",
    "version": 3
   },
   "file_extension": ".py",
   "mimetype": "text/x-python",
   "name": "python",
   "nbconvert_exporter": "python",
   "pygments_lexer": "ipython3",
   "version": "3.6.5"
  },
  "toc-autonumbering": false,
  "toc-showcode": false,
  "toc-showmarkdowntxt": false
 },
 "nbformat": 4,
 "nbformat_minor": 2
}
